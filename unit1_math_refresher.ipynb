{
 "cells": [
  {
   "cell_type": "code",
   "execution_count": 3,
   "id": "7f97b015",
   "metadata": {},
   "outputs": [
    {
     "name": "stdout",
     "output_type": "stream",
     "text": [
      "X shape: (1000, 500)\n"
     ]
    }
   ],
   "source": [
    "import numpy as np, matplotlib.pyplot as plt,time,os\n",
    "X=np.random.randn(1000,500)\n",
    "print(\"X shape:\", X.shape)"
   ]
  },
  {
   "cell_type": "code",
   "execution_count": 4,
   "id": "36fe3305",
   "metadata": {},
   "outputs": [
    {
     "name": "stdout",
     "output_type": "stream",
     "text": [
      "6.33 ms ± 1.14 ms per loop (mean ± std. dev. of 7 runs, 100 loops each)\n"
     ]
    }
   ],
   "source": [
    "%timeit X.T @ X"
   ]
  },
  {
   "cell_type": "code",
   "execution_count": 5,
   "id": "80fa64a8",
   "metadata": {},
   "outputs": [
    {
     "name": "stdout",
     "output_type": "stream",
     "text": [
      "rank(x) = 500 rank(X.T @ X) = 500\n"
     ]
    }
   ],
   "source": [
    "r1 = np.linalg.matrix_rank(X)\n",
    "r2 = np.linalg.matrix_rank(X.T @ X)\n",
    "print(\"rank(x) =\", r1, \"rank(X.T @ X) =\", r2)"
   ]
  },
  {
   "cell_type": "code",
   "execution_count": 6,
   "id": "62de26c7",
   "metadata": {},
   "outputs": [
    {
     "name": "stdout",
     "output_type": "stream",
     "text": [
      "Eigenvalues: [3.61803399 1.38196601]\n",
      "Positive-definite? True\n"
     ]
    }
   ],
   "source": [
    "A = np.array([[3, 1],\n",
    "              [1, 2]])\n",
    "w, v = np.linalg.eig(A)\n",
    "print(\"Eigenvalues:\", w)\n",
    "print(\"Positive-definite?\", np.all(w > 0))"
   ]
  },
  {
   "cell_type": "code",
   "execution_count": 8,
   "id": "5d4dfdc3",
   "metadata": {},
   "outputs": [],
   "source": [
    "# Save tiny output for git\n",
    "with open(\"day1_verification.txt\", \"w\") as f:\n",
    "    f.write(\"Eigenvalues: {}\\nPositive-definite: {}\\n\".format(w, np.all(w > 0)))"
   ]
  },
  {
   "cell_type": "code",
   "execution_count": null,
   "id": "fa3df6bb",
   "metadata": {},
   "outputs": [],
   "source": []
  }
 ],
 "metadata": {
  "kernelspec": {
   "display_name": "base",
   "language": "python",
   "name": "python3"
  },
  "language_info": {
   "codemirror_mode": {
    "name": "ipython",
    "version": 3
   },
   "file_extension": ".py",
   "mimetype": "text/x-python",
   "name": "python",
   "nbconvert_exporter": "python",
   "pygments_lexer": "ipython3",
   "version": "3.10.9"
  }
 },
 "nbformat": 4,
 "nbformat_minor": 5
}
